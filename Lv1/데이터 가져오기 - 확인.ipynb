{
  "nbformat": 4,
  "nbformat_minor": 0,
  "metadata": {
    "colab": {
      "provenance": [],
      "collapsed_sections": [
        "AUk_fCmVhtIc"
      ],
      "include_colab_link": true
    },
    "kernelspec": {
      "name": "python3",
      "display_name": "Python 3"
    },
    "language_info": {
      "name": "python"
    }
  },
  "cells": [
    {
      "cell_type": "markdown",
      "metadata": {
        "id": "view-in-github",
        "colab_type": "text"
      },
      "source": [
        "<a href=\"https://colab.research.google.com/github/pangsilv2/dacon-study/blob/main/Lv1/%EB%8D%B0%EC%9D%B4%ED%84%B0%20%EA%B0%80%EC%A0%B8%EC%98%A4%EA%B8%B0%20-%20%ED%99%95%EC%9D%B8.ipynb\" target=\"_parent\"><img src=\"https://colab.research.google.com/assets/colab-badge.svg\" alt=\"Open In Colab\"/></a>"
      ]
    },
    {
      "cell_type": "markdown",
      "metadata": {
        "id": "vIpjpOEXsoW0"
      },
      "source": [
        "# [↩️ 리스트로 돌아가기](https://dacon.io/competitions/open/235698/overview/description)"
      ]
    },
    {
      "cell_type": "markdown",
      "metadata": {
        "id": "-Xk4YBNFhkPe"
      },
      "source": [
        "# 셀을 실행할 때 팝업이 뜨면 `무시하고 계속하기` 를 눌러주세요\n"
      ]
    },
    {
      "cell_type": "markdown",
      "metadata": {
        "id": "7A1_NrpnNgI0"
      },
      "source": [
        "## 데이터 다운로드\n",
        "--- \n",
        "아래 셀을 실행시켜 데이터를 colab에 불러옵니다.  \n",
        "셀 실행은 Ctrl + Enter 를 이용해 실행 시킬 수 있습니다. "
      ]
    },
    {
      "cell_type": "code",
      "source": [],
      "metadata": {
        "id": "jDfg1reJvSpX"
      },
      "execution_count": null,
      "outputs": []
    },
    {
      "cell_type": "code",
      "metadata": {
        "id": "a3VxvpLvhnap",
        "outputId": "6d4b1d0a-c969-4365-bcdd-f84e8b5a57c8",
        "colab": {
          "base_uri": "https://localhost:8080/"
        }
      },
      "source": [
        "# 데이터 다운로드 링크로 데이터를 코랩에 불러옵니다.\n",
        "\n",
        "!wget 'https://bit.ly/3gLj0Q6'\n",
        "\n",
        "import zipfile\n",
        "with zipfile.ZipFile('3gLj0Q6', 'r') as existing_zip:\n",
        "    existing_zip.extractall('data')"
      ],
      "execution_count": 1,
      "outputs": [
        {
          "output_type": "stream",
          "name": "stdout",
          "text": [
            "--2023-03-06 02:08:42--  https://bit.ly/3gLj0Q6\n",
            "Resolving bit.ly (bit.ly)... 67.199.248.11, 67.199.248.10\n",
            "Connecting to bit.ly (bit.ly)|67.199.248.11|:443... connected.\n",
            "HTTP request sent, awaiting response... 301 Moved Permanently\n",
            "Location: https://drive.google.com/uc?export=download&id=1or_QN1ksv81DNog6Tu_kWcZ5jJWf5W9E [following]\n",
            "--2023-03-06 02:08:42--  https://drive.google.com/uc?export=download&id=1or_QN1ksv81DNog6Tu_kWcZ5jJWf5W9E\n",
            "Resolving drive.google.com (drive.google.com)... 108.177.12.139, 108.177.12.102, 108.177.12.100, ...\n",
            "Connecting to drive.google.com (drive.google.com)|108.177.12.139|:443... connected.\n",
            "HTTP request sent, awaiting response... 303 See Other\n",
            "Location: https://doc-0c-10-docs.googleusercontent.com/docs/securesc/ha0ro937gcuc7l7deffksulhg5h7mbp1/ou393a6mrtu3q3uilbl3g7acj3e3smu3/1678068450000/17946651057176172524/*/1or_QN1ksv81DNog6Tu_kWcZ5jJWf5W9E?e=download&uuid=c2b00089-5d8c-470c-8a97-c59eba6c894c [following]\n",
            "Warning: wildcards not supported in HTTP.\n",
            "--2023-03-06 02:08:42--  https://doc-0c-10-docs.googleusercontent.com/docs/securesc/ha0ro937gcuc7l7deffksulhg5h7mbp1/ou393a6mrtu3q3uilbl3g7acj3e3smu3/1678068450000/17946651057176172524/*/1or_QN1ksv81DNog6Tu_kWcZ5jJWf5W9E?e=download&uuid=c2b00089-5d8c-470c-8a97-c59eba6c894c\n",
            "Resolving doc-0c-10-docs.googleusercontent.com (doc-0c-10-docs.googleusercontent.com)... 142.250.98.132, 2607:f8b0:400c:c1a::84\n",
            "Connecting to doc-0c-10-docs.googleusercontent.com (doc-0c-10-docs.googleusercontent.com)|142.250.98.132|:443... connected.\n",
            "HTTP request sent, awaiting response... 200 OK\n",
            "Length: 39208 (38K) [application/zip]\n",
            "Saving to: ‘3gLj0Q6’\n",
            "\n",
            "3gLj0Q6             100%[===================>]  38.29K  --.-KB/s    in 0.001s  \n",
            "\n",
            "2023-03-06 02:08:43 (53.4 MB/s) - ‘3gLj0Q6’ saved [39208/39208]\n",
            "\n"
          ]
        }
      ]
    },
    {
      "cell_type": "markdown",
      "metadata": {
        "id": "Q453R09NhqYM"
      },
      "source": [
        "## 실습\n",
        "---\n",
        "`train.csv` 의 결측치를 확인하는 코드를 작성해 보세요."
      ]
    },
    {
      "cell_type": "code",
      "metadata": {
        "id": "zAnhzBdphqBA",
        "outputId": "b898b4b5-f9bf-4587-f3c8-abcc4060640c",
        "colab": {
          "base_uri": "https://localhost:8080/"
        }
      },
      "source": [
        "import pandas as pd\n",
        "\n",
        "\n",
        "train = pd.read_csv('data/train.csv') \n",
        "test = pd.read_csv('data/test.csv')\n",
        "\n",
        "\n",
        "print(train.isnull())\n",
        "print('\\n--------------------------------train.csv 각 열 별 결측치 수--------------------------------\\n')\n",
        "print(test.isnull().sum())"
      ],
      "execution_count": 11,
      "outputs": [
        {
          "output_type": "stream",
          "name": "stdout",
          "text": [
            "         id   hour  hour_bef_temperature  hour_bef_precipitation  \\\n",
            "0     False  False                 False                   False   \n",
            "1     False  False                 False                   False   \n",
            "2     False  False                 False                   False   \n",
            "3     False  False                 False                   False   \n",
            "4     False  False                 False                   False   \n",
            "...     ...    ...                   ...                     ...   \n",
            "1454  False  False                 False                   False   \n",
            "1455  False  False                 False                   False   \n",
            "1456  False  False                 False                   False   \n",
            "1457  False  False                 False                   False   \n",
            "1458  False  False                 False                   False   \n",
            "\n",
            "      hour_bef_windspeed  hour_bef_humidity  hour_bef_visibility  \\\n",
            "0                  False              False                False   \n",
            "1                  False              False                False   \n",
            "2                  False              False                False   \n",
            "3                  False              False                False   \n",
            "4                  False              False                False   \n",
            "...                  ...                ...                  ...   \n",
            "1454               False              False                False   \n",
            "1455               False              False                False   \n",
            "1456               False              False                False   \n",
            "1457               False              False                False   \n",
            "1458               False              False                False   \n",
            "\n",
            "      hour_bef_ozone  hour_bef_pm10  hour_bef_pm2.5  count  \n",
            "0              False          False           False  False  \n",
            "1              False          False           False  False  \n",
            "2              False          False           False  False  \n",
            "3              False          False           False  False  \n",
            "4              False          False           False  False  \n",
            "...              ...            ...             ...    ...  \n",
            "1454           False          False           False  False  \n",
            "1455           False          False           False  False  \n",
            "1456           False          False           False  False  \n",
            "1457           False          False           False  False  \n",
            "1458           False          False           False  False  \n",
            "\n",
            "[1459 rows x 11 columns]\n",
            "\n",
            "--------------------------------train.csv 각 열 별 결측치 수--------------------------------\n",
            "\n",
            "id                         0\n",
            "hour                       0\n",
            "hour_bef_temperature       1\n",
            "hour_bef_precipitation     1\n",
            "hour_bef_windspeed         1\n",
            "hour_bef_humidity          1\n",
            "hour_bef_visibility        1\n",
            "hour_bef_ozone            35\n",
            "hour_bef_pm10             37\n",
            "hour_bef_pm2.5            36\n",
            "dtype: int64\n"
          ]
        }
      ]
    },
    {
      "cell_type": "markdown",
      "source": [
        "data = pd.read_csv('파일경로/파일이름.csv')\n"
      ],
      "metadata": {
        "id": "dsBUf7ZlwiP9"
      }
    },
    {
      "cell_type": "code",
      "source": [
        "import pandas as pd\n",
        "\n",
        "\n",
        "train = pd.read_csv('data/train.csv') \n",
        "test = pd.read_csv('data/test.csv')\n",
        "\n",
        "train.shape\n",
        "test.shape"
      ],
      "metadata": {
        "id": "zK7OaiCmwFXN"
      },
      "execution_count": null,
      "outputs": []
    },
    {
      "cell_type": "markdown",
      "source": [
        "데이터 행열관측\n",
        "변수명.shape"
      ],
      "metadata": {
        "id": "E-Y3VXDexCkW"
      }
    },
    {
      "cell_type": "code",
      "source": [
        "import pandas as pd\n",
        "\n",
        "train = pd.read_csv('data/train.csv')\n",
        "\n",
        "# 정답 코드\n",
        "train.head(100) "
      ],
      "metadata": {
        "id": "5TDixwb7wFSO"
      },
      "execution_count": null,
      "outputs": []
    },
    {
      "cell_type": "markdown",
      "source": [
        "파일명.head()\n",
        "파일명.tail()\n",
        "해당 범위의 파일 확인하기"
      ],
      "metadata": {
        "id": "9DEUg3-NwGhY"
      }
    },
    {
      "cell_type": "markdown",
      "metadata": {
        "id": "AUk_fCmVhtIc"
      },
      "source": [
        "## 정답\n",
        "---"
      ]
    },
    {
      "cell_type": "code",
      "metadata": {
        "id": "SXmFFc3Whp0_",
        "outputId": "41076944-9e43-4c3d-8b81-f7a33069e2cf",
        "colab": {
          "base_uri": "https://localhost:8080/"
        }
      },
      "source": [
        "import pandas as pd\n",
        "\n",
        "# 정답 코드\n",
        "train = pd.read_csv('data/train.csv') \n",
        "test = pd.read_csv('data/test.csv')\n",
        "\n",
        "print(train.isnull())\n",
        "print('\\n--------------------------------train.csv 각 열 별 결측치 수--------------------------------\\n')\n",
        "print(test.isnull().sum())"
      ],
      "execution_count": 2,
      "outputs": [
        {
          "output_type": "stream",
          "name": "stdout",
          "text": [
            "         id   hour  hour_bef_temperature  hour_bef_precipitation  \\\n",
            "0     False  False                 False                   False   \n",
            "1     False  False                 False                   False   \n",
            "2     False  False                 False                   False   \n",
            "3     False  False                 False                   False   \n",
            "4     False  False                 False                   False   \n",
            "...     ...    ...                   ...                     ...   \n",
            "1454  False  False                 False                   False   \n",
            "1455  False  False                 False                   False   \n",
            "1456  False  False                 False                   False   \n",
            "1457  False  False                 False                   False   \n",
            "1458  False  False                 False                   False   \n",
            "\n",
            "      hour_bef_windspeed  hour_bef_humidity  hour_bef_visibility  \\\n",
            "0                  False              False                False   \n",
            "1                  False              False                False   \n",
            "2                  False              False                False   \n",
            "3                  False              False                False   \n",
            "4                  False              False                False   \n",
            "...                  ...                ...                  ...   \n",
            "1454               False              False                False   \n",
            "1455               False              False                False   \n",
            "1456               False              False                False   \n",
            "1457               False              False                False   \n",
            "1458               False              False                False   \n",
            "\n",
            "      hour_bef_ozone  hour_bef_pm10  hour_bef_pm2.5  count  \n",
            "0              False          False           False  False  \n",
            "1              False          False           False  False  \n",
            "2              False          False           False  False  \n",
            "3              False          False           False  False  \n",
            "4              False          False           False  False  \n",
            "...              ...            ...             ...    ...  \n",
            "1454           False          False           False  False  \n",
            "1455           False          False           False  False  \n",
            "1456           False          False           False  False  \n",
            "1457           False          False           False  False  \n",
            "1458           False          False           False  False  \n",
            "\n",
            "[1459 rows x 11 columns]\n",
            "\n",
            "--------------------------------train.csv 각 열 별 결측치 수--------------------------------\n",
            "\n",
            "id                         0\n",
            "hour                       0\n",
            "hour_bef_temperature       1\n",
            "hour_bef_precipitation     1\n",
            "hour_bef_windspeed         1\n",
            "hour_bef_humidity          1\n",
            "hour_bef_visibility        1\n",
            "hour_bef_ozone            35\n",
            "hour_bef_pm10             37\n",
            "hour_bef_pm2.5            36\n",
            "dtype: int64\n"
          ]
        }
      ]
    },
    {
      "cell_type": "markdown",
      "metadata": {
        "id": "zFK75NjutxXc"
      },
      "source": [
        "# [↩️ 리스트로 돌아가기](https://dacon.io/competitions/open/235698/overview/description)"
      ]
    }
  ]
}